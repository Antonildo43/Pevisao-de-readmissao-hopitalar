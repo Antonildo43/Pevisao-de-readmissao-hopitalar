{
 "cells": [
  {
   "cell_type": "markdown",
   "metadata": {
    "slideshow": {
     "slide_type": "slide"
    }
   },
   "source": [
    "## Previsão de readmissão hospitalar utilizando modelo de Deep Learning"
   ]
  },
  {
   "cell_type": "markdown",
   "metadata": {},
   "source": [
    "### por Antonildo Santos "
   ]
  },
  {
   "cell_type": "markdown",
   "metadata": {},
   "source": [
    "### Introdução\n",
    "O objetivo desta análise é criar um modelo de Rede Neural Profunda (Deep Learning) capaz prever, com o mais alto grau de precisão possível, os atendimentos propícios a ocorrência de Readmissão Hospitalar."
   ]
  },
  {
   "cell_type": "code",
   "execution_count": null,
   "metadata": {},
   "outputs": [],
   "source": []
  },
  {
   "cell_type": "markdown",
   "metadata": {},
   "source": [
    "### Apresentação dos dados\n",
    "\n",
    "Para realizar este trabalho utilizei um conjunto de dados disponível publicamente no repositório da UCI [Link]( https://archive.ics.uci.edu/ml/datasets/diabetes+130-us+hospitals+for+years+1999-2008# ). Este conjunto de dados representa 10 anos (1999-2008) de atendimento clínico em 130 hospitais dos EUA, contendo 101.766 observações em 10 anos. Inclui mais de 50 atributos, que representam características do paciente, diagnósticos, exames, etc. As informações foram extraídas do banco de dados contendo registros que satisfizeram os seguintes critérios. \n",
    " \n",
    "* 1) Cada atendimento representa uma internação hospitalar. \n",
    "* 2) Contempla apenas atendimentos de pacientes diabéticos, ou seja, aquele em que qualquer tipo de diabetes foi introduzido no sistema como um diagnóstico. \n",
    "* 3) O tempo de permanência foi de no mínimo 1 dia e no máximo 14 dias. \n",
    "* 4) Testes laboratoriais foram realizados durante o atendimento. \n",
    "* 5) Medicamentos foram administrados durante o atendimento.\n",
    " \n",
    "Os dados contêm atributos como número do paciente, raça, gênero, idade, tipo de internação, tempo no hospital, número de exames laboratoriais realizados, resultado do exame de HbA1c, diagnósticos, número de medicamentos utilizados, se usa medicamentos para diabético e quais, número de pacientes ambulatoriais , internação e visitas de emergência no ano anterior à hospitalização, etc. Alguns desses atributos serão desconsiderados nesta análise pois não terão relevância para o objetivo do trabalho.\n"
   ]
  },
  {
   "cell_type": "markdown",
   "metadata": {},
   "source": [
    "###  Importando bibliotecas"
   ]
  },
  {
   "cell_type": "code",
   "execution_count": 1675,
   "metadata": {},
   "outputs": [],
   "source": [
    "import pandas as pd\n",
    "import numpy as np\n",
    "import random\n",
    "from datetime import datetime, timedelta\n",
    "import time\n",
    "import matplotlib.pyplot as plt\n",
    "import seaborn as sns  \n",
    "import matplotlib as mpl\n",
    "from IPython.display import Image\n",
    "from sklearn.metrics import mean_squared_error\n",
    "#import seaborn as sns   \n",
    "import warnings\n",
    "\n",
    "%matplotlib inline"
   ]
  },
  {
   "cell_type": "markdown",
   "metadata": {},
   "source": [
    "### Carga de dados"
   ]
  },
  {
   "cell_type": "code",
   "execution_count": null,
   "metadata": {},
   "outputs": [],
   "source": [
    "# Carregando a base de dados\n",
    "df_uci_diabetic = pd.read_csv('diabetic_data.csv', decimal=b',')\n",
    "\n",
    "# Criando um novo dataframe a partir do df_uci_diabetic\n",
    "df = df_uci_diabetic.copy (deep = True)"
   ]
  },
  {
   "cell_type": "markdown",
   "metadata": {},
   "source": [
    "### Análise Exploratória"
   ]
  },
  {
   "cell_type": "code",
   "execution_count": null,
   "metadata": {},
   "outputs": [],
   "source": [
    "print('O Dataframe diabetic_data possui ' + str(df.shape[0]) + ' linhas e ' + str(df.shape[1]) + ' colunas')"
   ]
  },
  {
   "cell_type": "code",
   "execution_count": null,
   "metadata": {},
   "outputs": [],
   "source": [
    "# examinar os tipos de dados e estatísticas descritivas \n",
    "print (df.info ()) \n",
    "print (df.describe ())"
   ]
  },
  {
   "cell_type": "code",
   "execution_count": null,
   "metadata": {},
   "outputs": [],
   "source": [
    "# Visualizando as primeiras 10 linhas do dataframe\n",
    "df.head(10)"
   ]
  },
  {
   "cell_type": "code",
   "execution_count": null,
   "metadata": {},
   "outputs": [],
   "source": [
    "df.describe()"
   ]
  },
  {
   "cell_type": "code",
   "execution_count": null,
   "metadata": {},
   "outputs": [],
   "source": [
    "# Verificando a existencia de dados missing (dados faltantes)\n",
    "for col in df.columns:\n",
    "    if df[col].dtype == object:\n",
    "        if df[col][df[col] == '?'].count() > 0:\n",
    "            print(col,df[col][df[col] == '?'].count(),' Correspondendo a ',np.around((df[col][df[col] == '?'].count()/df[col].count())*100,2), '% das observações')"
   ]
  },
  {
   "cell_type": "code",
   "execution_count": null,
   "metadata": {},
   "outputs": [],
   "source": [
    "# Avaliando a distribuição dos dados em cada atributo\n",
    "for col in df.columns:\n",
    "    if df[col].dtype == object:\n",
    "        if df[col][df[col] == '?'].count() != 0:       \n",
    "            print(df.groupby([col])[col].count())\n",
    "            print('')"
   ]
  },
  {
   "cell_type": "code",
   "execution_count": null,
   "metadata": {},
   "outputs": [],
   "source": [
    "# Avaliando a distribuição dos dados em cada atributo\n",
    "for col in df.columns:\n",
    "    if df[col].dtype == object:\n",
    "        if df[col][df[col] == '?'].count() == 0:       \n",
    "            print(df.groupby([col])[col].count())\n",
    "            print('')"
   ]
  },
  {
   "cell_type": "code",
   "execution_count": null,
   "metadata": {},
   "outputs": [],
   "source": [
    "# Verificando a mediana\n",
    "for col in df.columns:\n",
    "    if df[col].dtype != object:\n",
    "        print(col, df[col].median())\n",
    "        print('')"
   ]
  },
  {
   "cell_type": "markdown",
   "metadata": {},
   "source": [
    "### Limpeza e Transformação dos dados\n",
    "\n",
    "Os critérios de eliminação de atributos e observações depende muito da interpretação dos dados feita pelo Cientista de Dados na fase de exploração. Estes critérios passam pela avaliação de cada atributo do conjunto de dados, verificação da distribuição de frequência, analise de correlações entre variáveis, modelo preditivo que será aplicado, além de um certo conhecimento do negócio em estudo, para então decidir quais a tributos e/ou observações devem ser descartados. Considerando o conjunto de dados em questão, decidi eliminar alguns atributos nos quais avalio que não impactará no resultado das análises preditivas. Descartarei os atributos \"encounter_id\", \"patient_nbr\", \"weight\", \"payer_code\", \"examide\", \"citoglipton\" e \"medical_specialty\". Por exemplo o atributo \"weight\", que corresponde ao peso do paciente, seria um atributo muito importante a ser considerado na análise, porém em 97% das observação este atributo está sem valor, tornando-se um dado insuficientemente consistente para o modelo aplicar algum tipo de generalização.\n",
    "\n",
    "Com base na consulta a documentação disponibilizada pelo repositório dos dados e entendimento de cada atributo do conjunto de dados, decidi também eliminar algumas observações que acredito não impactar no objetivo proposta neste trabalho. Precisarei também transformar alguns dados, com o objetivo de prepará-los para serem entregue ao modelo preditivo proposto."
   ]
  },
  {
   "cell_type": "code",
   "execution_count": null,
   "metadata": {},
   "outputs": [],
   "source": [
    "# Eliminando colunas que não serão utilizadas\n",
    "df.drop(['encounter_id', 'patient_nbr', 'weight', 'payer_code', 'examide', 'citoglipton', 'medical_specialty'], axis = 1, inplace = True)"
   ]
  },
  {
   "cell_type": "markdown",
   "metadata": {},
   "source": [
    "#### Categorização de diagnósticos\n",
    "No conjunto de dados existem três diagnosticos, um principal e dois secundários, contendo em média 752 codigos distintos em cada um, por isso resolvi realizar um reagrupamento com base numa análise realizada por Strack et al. em 2014, sobre o mesmo tema e utilizando o mesmo conjunto de dados, publicado em ( https://www.hindawi.com/journals/bmri/2014/781670/abs/ ). "
   ]
  },
  {
   "cell_type": "code",
   "execution_count": null,
   "metadata": {},
   "outputs": [],
   "source": [
    "Image('Agrupamento_CID_9.png')"
   ]
  },
  {
   "cell_type": "code",
   "execution_count": null,
   "metadata": {},
   "outputs": [],
   "source": [
    "# Criando novas colunas para atribuir os valores transformados\n",
    "df['d1'] = df['diag_1']\n",
    "df['d2'] = df['diag_2']\n",
    "df['d3'] = df['diag_3']\n",
    "df['classe'] = -1\n",
    "df['change_t'] = -1\n",
    "df['gender_t'] = -1\n",
    "df['diabetesMed_t'] = -1"
   ]
  },
  {
   "cell_type": "code",
   "execution_count": null,
   "metadata": {},
   "outputs": [],
   "source": [
    "# Reagrupamento do diagnóstico principal\n",
    "df['d1'] = df.apply(lambda row: 1 if (row['diag_1'][0:3].zfill(3) >= '390') and (row['diag_1'][0:3].zfill(3) <= '459' ) or  (row['diag_1'][0:3].zfill(3) == '785' ) else row['d1'], axis=1)\n",
    "df['d1'] = df.apply(lambda row: 2 if (row['diag_1'][0:3].zfill(3) >= '460') and (row['diag_1'][0:3].zfill(3) <= '519' ) or  (row['diag_1'][0:3].zfill(3) == '786' ) else row['d1'], axis=1)\n",
    "df['d1'] = df.apply(lambda row: 3 if (row['diag_1'][0:3].zfill(3) >= '520') and (row['diag_1'][0:3].zfill(3) <= '579' ) or  (row['diag_1'][0:3].zfill(3) == '787' ) else row['d1'], axis=1)\n",
    "df['d1'] = df.apply(lambda row: 4 if (row['diag_1'][0:3].zfill(3) == '250') else row['d1'], axis=1)\n",
    "df['d1'] = df.apply(lambda row: 5 if (row['diag_1'][0:3].zfill(3) >= '800') and (row['diag_1'][0:3].zfill(3) <= '999' ) else row['d1'], axis=1)\n",
    "df['d1'] = df.apply(lambda row: 6 if (row['diag_1'][0:3].zfill(3) >= '710') and (row['diag_1'][0:3].zfill(3) <= '739' ) else row['d1'], axis=1)\n",
    "df['d1'] = df.apply(lambda row: 7 if (row['diag_1'][0:3].zfill(3) >= '580') and (row['diag_1'][0:3].zfill(3) <= '629' ) or  (row['diag_1'][0:3].zfill(3) == '788' ) else row['d1'], axis=1)\n",
    "df['d1'] = df.apply(lambda row: 8 if (row['diag_1'][0:3].zfill(3) >= '140') and (row['diag_1'][0:3].zfill(3) <= '239' ) else row['d1'], axis=1)\n",
    "df['d1'] = df.apply(lambda row: 9 if (row['diag_1'][0:3].zfill(3) >= '790') and (row['diag_1'][0:3].zfill(3) <= '799' ) or  (row['diag_1'][0:3].zfill(3) == '780' ) or  (row['diag_1'][0:3].zfill(3) == '781' ) or  (row['diag_1'][0:3].zfill(3) == '784' ) else row['d1'], axis=1)\n",
    "df['d1'] = df.apply(lambda row: 10 if (row['diag_1'][0:3].zfill(3) >= '240') and (row['diag_1'][0:3].zfill(3) <= '249' ) else row['d1'], axis=1)\n",
    "df['d1'] = df.apply(lambda row: 10 if (row['diag_1'][0:3].zfill(3) >= '251') and (row['diag_1'][0:3].zfill(3) <= '279' ) else row['d1'], axis=1)\n",
    "df['d1'] = df.apply(lambda row: 11 if (row['diag_1'][0:3].zfill(3) >= '680') and (row['diag_1'][0:3].zfill(3) <= '709' ) or  (row['diag_1'][0:3].zfill(3) == '782' ) else row['d1'], axis=1)\n",
    "df['d1'] = df.apply(lambda row: 12 if (row['diag_1'][0:3].zfill(3) >= '001') and (row['diag_1'][0:3].zfill(3) <= '139' ) else row['d1'], axis=1)\n",
    "df['d1'] = df.apply(lambda row: 13 if (row['diag_1'][0:3].zfill(3) >= '290') and (row['diag_1'][0:3].zfill(3) <= '319' ) else row['d1'], axis=1)\n",
    "df['d1'] = df.apply(lambda row: 13 if (row['diag_1'][0:1] >= 'E') and (row['diag_1'][0:1] <= 'V' ) else row['d1'], axis=1)\n",
    "df['d1'] = df.apply(lambda row: 13 if (row['diag_1'][0:3].zfill(3) >= '280') and (row['diag_1'][0:3].zfill(3) <= '289' ) else row['d1'], axis=1)\n",
    "df['d1'] = df.apply(lambda row: 13 if (row['diag_1'][0:3].zfill(3) >= '320') and (row['diag_1'][0:3].zfill(3) <= '359' ) else row['d1'], axis=1)\n",
    "df['d1'] = df.apply(lambda row: 13 if (row['diag_1'][0:3].zfill(3) >= '630') and (row['diag_1'][0:3].zfill(3) <= '679' ) else row['d1'], axis=1)\n",
    "df['d1'] = df.apply(lambda row: 13 if (row['diag_1'][0:3].zfill(3) >= '360') and (row['diag_1'][0:3].zfill(3) <= '389' ) else row['d1'], axis=1)\n",
    "df['d1'] = df.apply(lambda row: 13 if (row['diag_1'][0:3].zfill(3) >= '740') and (row['diag_1'][0:3].zfill(3) <= '759' ) else row['d1'], axis=1)\n",
    "df['d1'] = df.apply(lambda row: 0 if (row['diag_1'][0:3].zfill(3)  == '783' or row['diag_1'][0:3].zfill(3)  == '789') else row['d1'], axis=1)\n",
    "df['d1'] = df.apply(lambda row: -1 if (row['diag_1'][0:1] == '?') else row['d1'], axis=1)                           "
   ]
  },
  {
   "cell_type": "code",
   "execution_count": null,
   "metadata": {},
   "outputs": [],
   "source": [
    "# Reagrupamento do primeiro diagnóstico secundário\n",
    "df['d2'] = df.apply(lambda row: 1 if (row['diag_2'][0:3].zfill(3) >= '390') and (row['diag_2'][0:3].zfill(3) <= '459' ) or  (row['diag_2'][0:3].zfill(3) == '785' ) else row['d2'], axis=1)\n",
    "df['d2'] = df.apply(lambda row: 2 if (row['diag_2'][0:3].zfill(3) >= '460') and (row['diag_2'][0:3].zfill(3) <= '519' ) or  (row['diag_2'][0:3].zfill(3) == '786' ) else row['d2'], axis=1)\n",
    "df['d2'] = df.apply(lambda row: 3 if (row['diag_2'][0:3].zfill(3) >= '520') and (row['diag_2'][0:3].zfill(3) <= '579' ) or  (row['diag_2'][0:3].zfill(3) == '787' ) else row['d2'], axis=1)\n",
    "df['d2'] = df.apply(lambda row: 4 if (row['diag_2'][0:3].zfill(3) == '250') else row['d2'], axis=1)\n",
    "df['d2'] = df.apply(lambda row: 5 if (row['diag_2'][0:3].zfill(3) >= '800') and (row['diag_2'][0:3].zfill(3) <= '999' ) else row['d2'], axis=1)\n",
    "df['d2'] = df.apply(lambda row: 6 if (row['diag_2'][0:3].zfill(3) >= '710') and (row['diag_2'][0:3].zfill(3) <= '739' ) else row['d2'], axis=1)\n",
    "df['d2'] = df.apply(lambda row: 7 if (row['diag_2'][0:3].zfill(3) >= '580') and (row['diag_2'][0:3].zfill(3) <= '629' ) or  (row['diag_2'][0:3].zfill(3) == '788' ) else row['d2'], axis=1)\n",
    "df['d2'] = df.apply(lambda row: 8 if (row['diag_2'][0:3].zfill(3) >= '140') and (row['diag_2'][0:3].zfill(3) <= '239' ) else row['d2'], axis=1)\n",
    "df['d2'] = df.apply(lambda row: 9 if (row['diag_2'][0:3].zfill(3) >= '790') and (row['diag_2'][0:3].zfill(3) <= '799' ) or  (row['diag_2'][0:3].zfill(3) == '780' ) or  (row['diag_2'][0:3].zfill(3) == '781' ) or  (row['diag_2'][0:3].zfill(3) == '784' ) else row['d2'], axis=1)\n",
    "df['d2'] = df.apply(lambda row: 10 if (row['diag_2'][0:3].zfill(3) >= '240') and (row['diag_2'][0:3].zfill(3) <= '249' ) else row['d2'], axis=1)\n",
    "df['d2'] = df.apply(lambda row: 10 if (row['diag_2'][0:3].zfill(3) >= '251') and (row['diag_2'][0:3].zfill(3) <= '279' ) else row['d2'], axis=1)\n",
    "df['d2'] = df.apply(lambda row: 11 if (row['diag_2'][0:3].zfill(3) >= '680') and (row['diag_2'][0:3].zfill(3) <= '709' ) or  (row['diag_2'][0:3].zfill(3) == '782' ) else row['d2'], axis=1)\n",
    "df['d2'] = df.apply(lambda row: 12 if (row['diag_2'][0:3].zfill(3) >= '001') and (row['diag_2'][0:3].zfill(3) <= '139' ) else row['d2'], axis=1)\n",
    "df['d2'] = df.apply(lambda row: 13 if (row['diag_2'][0:3].zfill(3) >= '290') and (row['diag_2'][0:3].zfill(3) <= '319' ) else row['d2'], axis=1)\n",
    "df['d2'] = df.apply(lambda row: 13 if (row['diag_2'][0:1] >= 'E') and (row['diag_2'][0:1] <= 'V' ) else row['d2'], axis=1)\n",
    "df['d2'] = df.apply(lambda row: 13 if (row['diag_2'][0:3].zfill(3) >= '280') and (row['diag_2'][0:3].zfill(3) <= '289' ) else row['d2'], axis=1)\n",
    "df['d2'] = df.apply(lambda row: 13 if (row['diag_2'][0:3].zfill(3) >= '320') and (row['diag_2'][0:3].zfill(3) <= '359' ) else row['d2'], axis=1)\n",
    "df['d2'] = df.apply(lambda row: 13 if (row['diag_2'][0:3].zfill(3) >= '630') and (row['diag_2'][0:3].zfill(3) <= '679' ) else row['d2'], axis=1)\n",
    "df['d2'] = df.apply(lambda row: 13 if (row['diag_2'][0:3].zfill(3) >= '360') and (row['diag_2'][0:3].zfill(3) <= '389' ) else row['d2'], axis=1)\n",
    "df['d2'] = df.apply(lambda row: 13 if (row['diag_2'][0:3].zfill(3) >= '740') and (row['diag_2'][0:3].zfill(3) <= '759' ) else row['d2'], axis=1)\n",
    "df['d2'] = df.apply(lambda row: 0 if (row['diag_2'][0:3].zfill(3)  == '783' or row['diag_2'][0:3].zfill(3)  == '789') else row['d2'], axis=1)\n",
    "df['d2'] = df.apply(lambda row: -1 if (row['diag_2'][0:1] == '?') else row['d2'], axis=1)                           "
   ]
  },
  {
   "cell_type": "code",
   "execution_count": null,
   "metadata": {},
   "outputs": [],
   "source": [
    "# Reagrupamento do segundo diagnóstico secundário\n",
    "df['d3'] = df.apply(lambda row: 1 if (row['diag_3'][0:3].zfill(3) >= '390') and (row['diag_3'][0:3].zfill(3) <= '459' ) or  (row['diag_3'][0:3].zfill(3) == '785' ) else row['d3'], axis=1)\n",
    "df['d3'] = df.apply(lambda row: 2 if (row['diag_3'][0:3].zfill(3) >= '460') and (row['diag_3'][0:3].zfill(3) <= '519' ) or  (row['diag_3'][0:3].zfill(3) == '786' ) else row['d3'], axis=1)\n",
    "df['d3'] = df.apply(lambda row: 3 if (row['diag_3'][0:3].zfill(3) >= '520') and (row['diag_3'][0:3].zfill(3) <= '579' ) or  (row['diag_3'][0:3].zfill(3) == '787' ) else row['d3'], axis=1)\n",
    "df['d3'] = df.apply(lambda row: 4 if (row['diag_3'][0:3].zfill(3) == '250') else row['d3'], axis=1)\n",
    "df['d3'] = df.apply(lambda row: 5 if (row['diag_3'][0:3].zfill(3) >= '800') and (row['diag_3'][0:3].zfill(3) <= '999' ) else row['d3'], axis=1)\n",
    "df['d3'] = df.apply(lambda row: 6 if (row['diag_3'][0:3].zfill(3) >= '710') and (row['diag_3'][0:3].zfill(3) <= '739' ) else row['d3'], axis=1)\n",
    "df['d3'] = df.apply(lambda row: 7 if (row['diag_3'][0:3].zfill(3) .zfill(3)>= '580') and (row['diag_3'][0:3].zfill(3) <= '629' ) or  (row['diag_3'][0:3].zfill(3) == '788' ) else row['d3'], axis=1)\n",
    "df['d3'] = df.apply(lambda row: 8 if (row['diag_3'][0:3].zfill(3) >= '140') and (row['diag_3'][0:3].zfill(3) <= '239' ) else row['d3'], axis=1)\n",
    "df['d3'] = df.apply(lambda row: 9 if (row['diag_3'][0:3].zfill(3) >= '790') and (row['diag_3'][0:3].zfill(3) <= '799' ) or  (row['diag_3'][0:3].zfill(3) == '780' ) or  (row['diag_3'][0:3].zfill(3) == '781' ) or  (row['diag_3'][0:3].zfill(3) == '784' ) else row['d3'], axis=1)\n",
    "df['d3'] = df.apply(lambda row: 10 if (row['diag_3'][0:3].zfill(3) >= '240') and (row['diag_3'][0:3].zfill(3) <= '249' ) else row['d3'], axis=1)\n",
    "df['d3'] = df.apply(lambda row: 10 if (row['diag_3'][0:3].zfill(3) >= '251') and (row['diag_3'][0:3].zfill(3) <= '279' ) else row['d3'], axis=1)\n",
    "df['d3'] = df.apply(lambda row: 11 if (row['diag_3'][0:3].zfill(3) >= '680') and (row['diag_3'][0:3].zfill(3) <= '709' ) or  (row['diag_3'][0:3].zfill(3) == '782' ) else row['d3'], axis=1)\n",
    "df['d3'] = df.apply(lambda row: 12 if (row['diag_3'][0:3].zfill(3) >= '001') and (row['diag_3'][0:3].zfill(3) <= '139' ) else row['d3'], axis=1)\n",
    "df['d3'] = df.apply(lambda row: 13 if (row['diag_3'][0:3].zfill(3) >= '290') and (row['diag_3'][0:3].zfill(3) <= '319' ) else row['d3'], axis=1)\n",
    "df['d3'] = df.apply(lambda row: 13 if (row['diag_3'][0:1] >= 'E') and (row['diag_3'][0:1] <= 'V' ) else row['d3'], axis=1)\n",
    "df['d3'] = df.apply(lambda row: 13 if (row['diag_3'][0:3].zfill(3) >= '280') and (row['diag_3'][0:3].zfill(3) <= '289' ) else row['d3'], axis=1)\n",
    "df['d3'] = df.apply(lambda row: 13 if (row['diag_3'][0:3].zfill(3) >= '320') and (row['diag_3'][0:3].zfill(3) <= '359' ) else row['d3'], axis=1)\n",
    "df['d3'] = df.apply(lambda row: 13 if (row['diag_3'][0:3].zfill(3) >= '630') and (row['diag_3'][0:3].zfill(3) <= '679' ) else row['d3'], axis=1)\n",
    "df['d3'] = df.apply(lambda row: 13 if (row['diag_3'][0:3].zfill(3) >= '360') and (row['diag_3'][0:3].zfill(3) <= '389' ) else row['d3'], axis=1)\n",
    "df['d3'] = df.apply(lambda row: 13 if (row['diag_3'][0:3].zfill(3) >= '740') and (row['diag_3'][0:3].zfill(3) <= '759' ) else row['d3'], axis=1)\n",
    "df['d3'] = df.apply(lambda row: 0 if (row['diag_3'][0:3].zfill(3)  == '783' or row['diag_3'][0:3].zfill(3)  == '789') else row['d3'], axis=1)\n",
    "df['d3'] = df.apply(lambda row: -1 if (row['diag_3'][0:1] == '?') else row['d3'], axis=1)                           "
   ]
  },
  {
   "cell_type": "code",
   "execution_count": null,
   "metadata": {},
   "outputs": [],
   "source": [
    "print(df.groupby(['d1', 'diag_1']).d2.count())"
   ]
  },
  {
   "cell_type": "code",
   "execution_count": null,
   "metadata": {},
   "outputs": [],
   "source": [
    "print(df.groupby(['d2', 'diag_2']).d2.count())"
   ]
  },
  {
   "cell_type": "code",
   "execution_count": null,
   "metadata": {},
   "outputs": [],
   "source": [
    "print(df.groupby(['d3', 'diag_3']).d3.count())"
   ]
  },
  {
   "cell_type": "markdown",
   "metadata": {},
   "source": [
    "Conforme consta na documentação, trata-se de um do conjunto de dados contendo atendimentos onde qualquer tipo de diabetes foi introduzido no sistema como um diagnóstico, então eliminarei as observações onde não existe nenhum diagnóstico registrado."
   ]
  },
  {
   "cell_type": "code",
   "execution_count": null,
   "metadata": {},
   "outputs": [],
   "source": [
    "df = df[(df.d1 > -1) | (df.d2 > -1) | (df.d3 > -1)]"
   ]
  },
  {
   "cell_type": "code",
   "execution_count": null,
   "metadata": {},
   "outputs": [],
   "source": [
    "# Eliminando as colunas originais do diagnósticos\n",
    "df.drop(['diag_1'], axis = 1, inplace = True)\n",
    "df.drop(['diag_2'], axis = 1, inplace = True)\n",
    "df.drop(['diag_3'], axis = 1, inplace = True)"
   ]
  },
  {
   "cell_type": "markdown",
   "metadata": {},
   "source": [
    "### Aplicando a transformação dos dados"
   ]
  },
  {
   "cell_type": "code",
   "execution_count": null,
   "metadata": {},
   "outputs": [],
   "source": [
    "# Atribui a classe os valores 1 ou 0, correspondendo a ocorrencias de readmissão em menos de 30 dias ou não \n",
    "df['classe'] = df.apply(lambda row: 0 if (row['readmitted'][0:3] == '>30' or row['readmitted'][0:2] == 'NO') else row['classe'], axis=1) \n",
    "df['classe'] = df.apply(lambda row: 1 if (row['readmitted'][0:3] == '<30') else row['classe'], axis=1)\n",
    "df.drop(['readmitted'], axis = 1, inplace = True)"
   ]
  },
  {
   "cell_type": "code",
   "execution_count": null,
   "metadata": {},
   "outputs": [],
   "source": [
    "df['change_t'] = df.apply(lambda row: 1 if (row['change'] == 'Ch') else -1, axis=1)\n",
    "df['change_t'] = df.apply(lambda row: 0 if (row['change'] == 'No') else row['change_t'], axis=1)\n",
    "df.drop(['change'], axis = 1, inplace = True)"
   ]
  },
  {
   "cell_type": "code",
   "execution_count": null,
   "metadata": {},
   "outputs": [],
   "source": [
    "df['gender_t'] = df.apply(lambda row: 1 if (row['gender'] == 'Male') else -1, axis=1)\n",
    "df['gender_t'] = df.apply(lambda row: 0 if (row['gender'] == 'Female') else row['gender_t'], axis=1)\n",
    "df.drop(['gender'], axis = 1, inplace = True)"
   ]
  },
  {
   "cell_type": "code",
   "execution_count": null,
   "metadata": {},
   "outputs": [],
   "source": [
    "df['diabetesMed_t'] = df.apply(lambda row: 1 if (row['diabetesMed'] == 'Yes') else -1, axis=1)\n",
    "df['diabetesMed_t'] = df.apply(lambda row: 0 if (row['diabetesMed'] == 'No') else row['diabetesMed_t'], axis=1)\n",
    "df.drop(['diabetesMed'], axis = 1, inplace = True)"
   ]
  },
  {
   "cell_type": "code",
   "execution_count": null,
   "metadata": {},
   "outputs": [],
   "source": [
    "m = 0\n",
    "medicacoes = ['metformin', 'repaglinide', 'nateglinide', 'chlorpropamide', 'glimepiride', 'glipizide', 'glyburide', \n",
    "              'pioglitazone', 'rosiglitazone', 'acarbose', 'miglitol', 'insulin', 'glyburide-metformin', 'tolazamide', \n",
    "              'metformin-pioglitazone','metformin-rosiglitazone', 'glimepiride-pioglitazone', \n",
    "              'glipizide-metformin', 'troglitazone', 'tolbutamide', 'acetohexamide']\n",
    "for col in df.columns:\n",
    "    if col in medicacoes:       \n",
    "        colname = 'Med' + str(m) + '_t'\n",
    "        df[colname] = df.apply(lambda row: 0 if (row[col] == 'No') else 1, axis=1)\n",
    "        df.drop([col], axis = 1, inplace = True)\n",
    "        m = m + 1"
   ]
  },
  {
   "cell_type": "code",
   "execution_count": null,
   "metadata": {},
   "outputs": [],
   "source": [
    "df['A1Cresult_t'] = df.apply(lambda row: 0 if (row['A1Cresult'][0:4] == 'Norm') else -1, axis=1) \n",
    "df['A1Cresult_t'] = df.apply(lambda row: 1 if (row['A1Cresult'][0:2] == '>7' or row['A1Cresult'][0:2] == '>8') else row['A1Cresult_t'], axis=1) \n",
    "df.drop(['A1Cresult'], axis = 1, inplace = True)"
   ]
  },
  {
   "cell_type": "code",
   "execution_count": null,
   "metadata": {},
   "outputs": [],
   "source": [
    "df['max_glu_serum_t'] = df.apply(lambda row: 0 if (row['max_glu_serum'][0:4] == 'Norm') else -1, axis=1) \n",
    "df['max_glu_serum_t'] = df.apply(lambda row: 1 if (row['max_glu_serum'][0:2] == '>7' or row['max_glu_serum'][0:2] == '>8') else row['max_glu_serum_t'], axis=1) \n",
    "df.drop(['max_glu_serum'], axis = 1, inplace = True)"
   ]
  },
  {
   "cell_type": "code",
   "execution_count": null,
   "metadata": {},
   "outputs": [],
   "source": [
    "df['age_faixa'] = df.apply(lambda row: 0 if (row['age'] == '[0-10)') else -1, axis=1) \n",
    "df['age_faixa'] = df.apply(lambda row: 1 if (row['age'] == '[10-20)') else row['age_faixa'], axis=1)\n",
    "df['age_faixa'] = df.apply(lambda row: 2 if (row['age'] == '[20-30)') else row['age_faixa'], axis=1) \n",
    "df['age_faixa'] = df.apply(lambda row: 3 if (row['age'] == '[30-40)') else row['age_faixa'], axis=1)\n",
    "df['age_faixa'] = df.apply(lambda row: 4 if (row['age'] == '[40-50)') else row['age_faixa'], axis=1) \n",
    "df['age_faixa'] = df.apply(lambda row: 5 if (row['age'] == '[50-60)') else row['age_faixa'], axis=1)\n",
    "df['age_faixa'] = df.apply(lambda row: 6 if (row['age'] == '[70-80)') else row['age_faixa'], axis=1) \n",
    "df['age_faixa'] = df.apply(lambda row: 7 if (row['age'] == '[80-90)') else row['age_faixa'], axis=1)\n",
    "df['age_faixa'] = df.apply(lambda row: 8 if (row['age'] == '[90-100)') else row['age_faixa'], axis=1)\n",
    "df.drop(['age'], axis = 1, inplace = True)"
   ]
  },
  {
   "cell_type": "code",
   "execution_count": null,
   "metadata": {},
   "outputs": [],
   "source": [
    "df['race_t'] = df.apply(lambda row: 0 if (row['race'] == '?') else -1, axis=1) \n",
    "df['race_t'] = df.apply(lambda row: 1 if (row['race'] == 'AfricanAmerican') else row['race_t'], axis=1)\n",
    "df['race_t'] = df.apply(lambda row: 2 if (row['race'] == 'Asian') else row['race_t'], axis=1) \n",
    "df['race_t'] = df.apply(lambda row: 3 if (row['race'] == 'Caucasian') else row['race_t'], axis=1)\n",
    "df['race_t'] = df.apply(lambda row: 4 if (row['race'] == 'Hispanic') else row['race_t'], axis=1) \n",
    "df['race_t'] = df.apply(lambda row: 5 if (row['race'] == 'Other') else row['race_t'], axis=1)\n",
    "df.drop(['race'], axis = 1, inplace = True)"
   ]
  },
  {
   "cell_type": "code",
   "execution_count": null,
   "metadata": {},
   "outputs": [],
   "source": [
    "# Salvando o dataset com as tranformações realizadas\n",
    "df.to_csv('./diabetes_data_modificado.csv', index=False)"
   ]
  },
  {
   "cell_type": "code",
   "execution_count": 1670,
   "metadata": {},
   "outputs": [],
   "source": [
    "# Carregando a base de dados\n",
    "df = pd.read_csv('diabetes_data_modificado.csv', decimal=b',')"
   ]
  },
  {
   "cell_type": "code",
   "execution_count": null,
   "metadata": {},
   "outputs": [],
   "source": [
    "df.head(10)"
   ]
  },
  {
   "cell_type": "code",
   "execution_count": null,
   "metadata": {},
   "outputs": [],
   "source": [
    "print (df.info ()) "
   ]
  },
  {
   "cell_type": "code",
   "execution_count": null,
   "metadata": {},
   "outputs": [],
   "source": [
    "print(df.groupby(['classe']).classe.count())"
   ]
  },
  {
   "cell_type": "markdown",
   "metadata": {},
   "source": [
    "### Construção do Modelo Preditivo"
   ]
  },
  {
   "cell_type": "markdown",
   "metadata": {},
   "source": [
    "O indicador de Readmissão Hospitalar  mede a taxa de pacientes que retornaram ao hospital em até 30 dias desde a última alta hospitalar correspondente a primeira admissão. Este indicador avalia a capacidade progressiva do prestador de serviço em ajudar na recuperação do paciente. Nos Estados unidos, várias iniciativas já foram tomadas para garantir o sucesso da recuperação da saúde de seus pacientes, usando técnicas de trabalho em equipe a tecnologia para diminuir a readmissão hospitalar.\n",
    "\n",
    "A taxa de readmissão hospitalar é frequentemente usada como uma medida da qualidade assistencial de um hospital, segundo determina a ANS, o indicador de Readmissão Hospitalar é um dos critérios para o estabelecimento alcançar o reajuste de 100% do IPCA, consequentemente uma alta taxa de readmissão pode afetar o índice de reajuste dos contratos firmados entre operadoras de planos de saúde e prestadores de serviço. Segundo a diretora-adjunta de Desenvolvimento Setorial da ANS, Michelle Mello “Esse é um indicador internacional clássico para avaliação da qualidade de atendimento e cuidado prestados ao paciente nos hospitais. Quanto menor for a reincidência de internação, ou seja, quanto menor for a readmissão potencialmente evitável, melhor é considerado o atendimento prestado pela unidade hospitalar”.\n",
    "\n",
    "Um dos grandes desafios dos hospitais é identificar as readmissões que poderiam ser evitadas. Ser capaz de prever quais pacientes serão readmitidos pode ajudar os hospitais e operadoras de plano de saúde a economizar milhões de reais e melhorar a qualidade dos cuidados e recuperação dos pacientes\n",
    "\n",
    "O objetivo deste trabalhe é implementar um modelo de Deep Learning, capaz de classificar os pacientes que serão readmitidos, com o mais alto grau de precisão possível. Um dos desafios ao analisar este conjunto de dados é o enorme desequilíbrio da variável target: as readmissões com menos de 30 dias correspondem apenas 11,16% dos atendimentos. Nesse caso, é muito pior ter falsos negativos do que falsos positivos em nossas previsões, pois falsos negativos significam que algum paciente foi readmitido, porém o modelo não foi capaz de prever, isso poderá comprometer os idicadores de qualidade da instituição. "
   ]
  },
  {
   "cell_type": "code",
   "execution_count": 4,
   "metadata": {},
   "outputs": [
    {
     "name": "stderr",
     "output_type": "stream",
     "text": [
      "C:\\Users\\anton\\Anaconda3\\envs\\theano\\lib\\site-packages\\h5py\\__init__.py:36: FutureWarning: Conversion of the second argument of issubdtype from `float` to `np.floating` is deprecated. In future, it will be treated as `np.float64 == np.dtype(float).type`.\n",
      "  from ._conv import register_converters as _register_converters\n",
      "Using TensorFlow backend.\n"
     ]
    }
   ],
   "source": [
    "# Pacotes de Manipulação de Dados\n",
    "import numpy as np\n",
    "import matplotlib.pyplot as plt\n",
    "import sklearn\n",
    "from sklearn.model_selection import train_test_split\n",
    "from sklearn.datasets import make_blobs\n",
    "from sklearn.linear_model import LogisticRegression\n",
    "import pandas as pd\n",
    "from sklearn.model_selection import KFold\n",
    "\n",
    "# Keras e TensorFlow\n",
    "\n",
    "from keras.models import Sequential\n",
    "from keras.layers import Dense, Activation, Dropout\n",
    "from keras.optimizers import SGD, Adam\n",
    "import tensorflow as tf\n",
    "\n",
    "# Pacotes para Confusion Matrix e Balanceamento de Classes\n",
    "import pandas_ml as pdml\n",
    "import imblearn\n",
    "from imblearn.combine import SMOTETomek\n"
   ]
  },
  {
   "cell_type": "code",
   "execution_count": 5,
   "metadata": {},
   "outputs": [
    {
     "data": {
      "image/png": "[encoded data removed]",
      "text/plain": [
       "<Figure size 432x288 with 1 Axes>"
      ]
     },
     "metadata": {},
     "output_type": "display_data"
    }
   ],
   "source": [
    "df['classe'].hist()\n",
    "plt.show()"
   ]
  },
  {
   "cell_type": "code",
   "execution_count": 367,
   "metadata": {},
   "outputs": [
    {
     "name": "stdout",
     "output_type": "stream",
     "text": [
      "O Dataframe diabetic_data_modificado possui 101765 linhas e 43 colunas\n"
     ]
    }
   ],
   "source": [
    "print('O Dataframe diabetic_data_modificado possui ' + str(df.shape[0]) + ' linhas e ' + str(df.shape[1]) + ' colunas')"
   ]
  },
  {
   "cell_type": "code",
   "execution_count": 1884,
   "metadata": {},
   "outputs": [
    {
     "name": "stdout",
     "output_type": "stream",
     "text": [
      "Temos 11357 pontos de dados como readmissões e 90408 pontos de dados considerados normais.\n"
     ]
    }
   ],
   "source": [
    "readmissoes = df.loc[df['classe'] == 1]\n",
    "nao_readmissoes = df.loc[df['classe'] == 0]\n",
    "print(\"Temos\", len(readmissoes), \"pontos de dados como readmissões e\", len(nao_readmissoes), \"pontos de dados considerados normais.\")"
   ]
  },
  {
   "cell_type": "code",
   "execution_count": 1820,
   "metadata": {},
   "outputs": [],
   "source": [
    "# Atribuido valores as variáveis X e y do dodelo\n",
    "X = df.iloc[:,:-1]\n",
    "y = df['classe']\n",
    "\n",
    "# Gerando dados de treino, teste e validação\n",
    "X1, X_valid, y1, y_valid = train_test_split(X, y.as_matrix(), test_size = 0.15, random_state = 42)\n",
    "X_train, X_test, y_train, y_test = train_test_split(X1, y1, test_size = 0.25, random_state = 52)"
   ]
  },
  {
   "cell_type": "code",
   "execution_count": 1101,
   "metadata": {},
   "outputs": [
    {
     "name": "stdout",
     "output_type": "stream",
     "text": [
      "Tamanho do Dataset de Treino:  (64875, 42)\n"
     ]
    }
   ],
   "source": [
    "print(\"Tamanho do Dataset de Treino: \", X_train.shape)"
   ]
  },
  {
   "cell_type": "code",
   "execution_count": 1102,
   "metadata": {},
   "outputs": [
    {
     "name": "stdout",
     "output_type": "stream",
     "text": [
      "Tamanho do Dataset de Validaçao:  (15265, 42)\n"
     ]
    }
   ],
   "source": [
    "print(\"Tamanho do Dataset de Validaçao: \", X_valid.shape)"
   ]
  },
  {
   "cell_type": "code",
   "execution_count": 1103,
   "metadata": {},
   "outputs": [
    {
     "name": "stdout",
     "output_type": "stream",
     "text": [
      "Tamanho do Dataset de Test:  (21625, 42)\n"
     ]
    }
   ],
   "source": [
    "print(\"Tamanho do Dataset de Test: \", X_test.shape)"
   ]
  },
  {
   "cell_type": "markdown",
   "metadata": {},
   "source": [
    "### Começando com uma Rede Neural Simples"
   ]
  },
  {
   "cell_type": "code",
   "execution_count": 370,
   "metadata": {},
   "outputs": [
    {
     "name": "stdout",
     "output_type": "stream",
     "text": [
      "_________________________________________________________________\n",
      "Layer (type)                 Output Shape              Param #   \n",
      "=================================================================\n",
      "dense_199 (Dense)            (None, 42)                1806      \n",
      "_________________________________________________________________\n",
      "dense_200 (Dense)            (None, 1)                 43        \n",
      "=================================================================\n",
      "Total params: 1,849\n",
      "Trainable params: 1,849\n",
      "Non-trainable params: 0\n",
      "_________________________________________________________________\n"
     ]
    }
   ],
   "source": [
    "model = Sequential()\n",
    "model.add(Dense(42, input_dim = 42, activation = 'relu'))     \n",
    "model.add(Dense(1, activation = 'sigmoid'))                \n",
    "model.compile(loss = 'binary_crossentropy', optimizer = 'adam', metrics = ['accuracy'])\n",
    "model.summary()"
   ]
  },
  {
   "cell_type": "code",
   "execution_count": 371,
   "metadata": {},
   "outputs": [
    {
     "name": "stdout",
     "output_type": "stream",
     "text": [
      "Train on 64875 samples, validate on 15265 samples\n",
      "Epoch 1/1\n",
      "64875/64875 [==============================] - 12s 189us/step - loss: 0.1002 - acc: 0.9700 - val_loss: 0.0057 - val_acc: 1.0000\n"
     ]
    },
    {
     "data": {
      "text/plain": [
       "<keras.callbacks.History at 0x215cc6bdc50>"
      ]
     },
     "execution_count": 371,
     "metadata": {},
     "output_type": "execute_result"
    }
   ],
   "source": [
    "model.fit(X_train.as_matrix(), y_train, epochs = 1, validation_data=(X_valid, y_valid))"
   ]
  },
  {
   "cell_type": "code",
   "execution_count": 372,
   "metadata": {},
   "outputs": [
    {
     "name": "stdout",
     "output_type": "stream",
     "text": [
      "Erro/Acurácia:  [0.0056799375555208675, 1.0]\n"
     ]
    }
   ],
   "source": [
    "print(\"Erro/Acurácia: \", model.evaluate(X_valid.as_matrix(), y_valid, verbose = 0))"
   ]
  },
  {
   "cell_type": "code",
   "execution_count": 373,
   "metadata": {},
   "outputs": [],
   "source": [
    "y_predicted = model.predict(X_valid.as_matrix()).T[0].astype(int)"
   ]
  },
  {
   "cell_type": "code",
   "execution_count": 374,
   "metadata": {},
   "outputs": [
    {
     "name": "stdout",
     "output_type": "stream",
     "text": [
      "Confusion matrix:\n",
      "Predicted      0  1  __all__\n",
      "Actual                      \n",
      "0          13560  0    13560\n",
      "1           1705  0     1705\n",
      "__all__    15265  0    15265\n"
     ]
    },
    {
     "data": {
      "image/png": "[encoded data removed]",
      "text/plain": [
       "<Figure size 648x576 with 2 Axes>"
      ]
     },
     "metadata": {},
     "output_type": "display_data"
    },
    {
     "name": "stdout",
     "output_type": "stream",
     "text": [
      "Confusion Matrix:\n",
      "\n",
      "Predicted      0  1  __all__\n",
      "Actual                      \n",
      "0          13560  0    13560\n",
      "1           1705  0     1705\n",
      "__all__    15265  0    15265\n",
      "\n",
      "\n",
      "Overall Statistics:\n",
      "\n",
      "Accuracy: 0.8883065836881756\n",
      "95% CI: (0.883202818959111, 0.8932618369543117)\n",
      "No Information Rate: ToDo\n",
      "P-Value [Acc > NIR]: 1.0\n",
      "Kappa: 0.0\n",
      "Mcnemar's Test P-Value: ToDo\n",
      "\n",
      "\n",
      "Class Statistics:\n",
      "\n",
      "Classes                                       0         1\n",
      "Population                                15265     15265\n",
      "P: Condition positive                     13560      1705\n",
      "N: Condition negative                      1705     13560\n",
      "Test outcome positive                     15265         0\n",
      "Test outcome negative                         0     15265\n",
      "TP: True Positive                         13560         0\n",
      "TN: True Negative                             0     13560\n",
      "FP: False Positive                         1705         0\n",
      "FN: False Negative                            0      1705\n",
      "TPR: (Sensitivity, hit rate, recall)          1         0\n",
      "TNR=SPC: (Specificity)                        0         1\n",
      "PPV: Pos Pred Value (Precision)        0.888307       NaN\n",
      "NPV: Neg Pred Value                         NaN  0.888307\n",
      "FPR: False-out                                1         0\n",
      "FDR: False Discovery Rate              0.111693       NaN\n",
      "FNR: Miss Rate                                0         1\n",
      "ACC: Accuracy                          0.888307  0.888307\n",
      "F1 score                                0.94085         0\n",
      "MCC: Matthews correlation coefficient       NaN       NaN\n",
      "Informedness                                  0         0\n",
      "Markedness                                  NaN       NaN\n",
      "Prevalence                             0.888307  0.111693\n",
      "LR+: Positive likelihood ratio                1       NaN\n",
      "LR-: Negative likelihood ratio              NaN         1\n",
      "DOR: Diagnostic odds ratio                  NaN       NaN\n",
      "FOR: False omission rate                    NaN  0.111693\n"
     ]
    }
   ],
   "source": [
    "from pandas_ml import ConfusionMatrix\n",
    "import warnings\n",
    "warnings.filterwarnings('ignore')\n",
    "y_right = np.array(y_valid)\n",
    "confusion_matrix = ConfusionMatrix(y_right, y_predicted)\n",
    "print(\"Confusion matrix:\\n%s\" % confusion_matrix)\n",
    "confusion_matrix.plot(normalized=True)\n",
    "plt.show()\n",
    "confusion_matrix.print_stats()"
   ]
  },
  {
   "cell_type": "markdown",
   "metadata": {},
   "source": [
    "Podemos observar que apesar do modelo está demonstrando uma acurácia de aproximadamente 88%, analisando a ConfusionMatrix percebemos que os resultados não foram satisfatório, consequencia do desbalanciamento dos dados. Então vamos aplicar um oversampling para corrigir um viés no conjunto de dados original, empregando Synthetic Minority Over-sampling Technique para balancear os dados. "
   ]
  },
  {
   "cell_type": "markdown",
   "metadata": {},
   "source": [
    "### Aplicando Scala, Oversampling e Redução de dimensionalidade com PCA"
   ]
  },
  {
   "cell_type": "code",
   "execution_count": 1822,
   "metadata": {
    "scrolled": true
   },
   "outputs": [
    {
     "data": {
      "text/plain": [
       "array([[ 1.13704718, -1.9136966 , -1.94068702, ..., -0.92719112,\n",
       "         2.5924661 ,  0.93507925],\n",
       "       [ 3.33408314,  1.30404   , -1.3666474 , ..., -0.63433479,\n",
       "         0.46784048,  0.65992375],\n",
       "       [ 0.39415854, -3.01687182, -2.26766923, ...,  2.26787175,\n",
       "        -0.07146902,  0.42011434],\n",
       "       ...,\n",
       "       [ 1.53405637, -1.87830753,  1.6465928 , ...,  0.36178118,\n",
       "         1.19159827, -0.9396254 ],\n",
       "       [-0.67543362,  2.08649192, -0.49076992, ..., -0.54896311,\n",
       "        -0.67509356,  0.14076616],\n",
       "       [-1.05886019, -0.99912696, -0.25573581, ...,  0.85162891,\n",
       "         0.59529961,  0.09479871]])"
      ]
     },
     "execution_count": 1822,
     "metadata": {},
     "output_type": "execute_result"
    }
   ],
   "source": [
    "from sklearn.decomposition import PCA\n",
    "from sklearn.preprocessing import scale\n",
    "from sklearn.preprocessing import MinMaxScaler, QuantileTransformer, Normalizer, StandardScaler, MaxAbsScaler, RobustScaler\n",
    "\n",
    "\n",
    "df2 = pdml.ModelFrame(X_train, target=y_train.ravel())\n",
    "ampler = SMOTETomek(random_state=42, ratio='auto')\n",
    "oversampled = df2.fit_sample(sampler)\n",
    "X2_train, y2_train = oversampled.iloc[:,1:], oversampled.iloc[:,0]\n",
    "X2_train\n",
    "data = scale(X2_train)\n",
    "pca = PCA(n_components = 10)\n",
    "X2_train = pca.fit_transform(data)\n",
    "data = scale(X_valid)\n",
    "pca = PCA(n_components = 10)\n",
    "X_valid = pca.fit_transform(data)\n",
    "data = scale(X_test)\n",
    "pca = PCA(n_components = 10)\n",
    "X_test = pca.fit_transform(data)\n",
    "X2_train"
   ]
  },
  {
   "cell_type": "code",
   "execution_count": 1823,
   "metadata": {},
   "outputs": [
    {
     "data": {
      "image/png": "[encoded data removed]",
      "text/plain": [
       "<Figure size 432x288 with 1 Axes>"
      ]
     },
     "metadata": {},
     "output_type": "display_data"
    }
   ],
   "source": [
    "oversampled.iloc[:,0].hist()\n",
    "plt.show()"
   ]
  },
  {
   "cell_type": "markdown",
   "metadata": {},
   "source": [
    "### Aumentando o Número de Camadas na Rede Neural"
   ]
  },
  {
   "cell_type": "code",
   "execution_count": 377,
   "metadata": {},
   "outputs": [],
   "source": [
    "from keras.callbacks import EarlyStopping"
   ]
  },
  {
   "cell_type": "code",
   "execution_count": 1868,
   "metadata": {},
   "outputs": [],
   "source": [
    "OPTIMIZER = Adam(lr=0.001, beta_1=0.99, beta_2=0.999, amsgrad=True) # otimizador"
   ]
  },
  {
   "cell_type": "code",
   "execution_count": null,
   "metadata": {},
   "outputs": [],
   "source": [
    "batch_size = 6490"
   ]
  },
  {
   "cell_type": "code",
   "execution_count": 1870,
   "metadata": {},
   "outputs": [
    {
     "name": "stdout",
     "output_type": "stream",
     "text": [
      "_________________________________________________________________\n",
      "Layer (type)                 Output Shape              Param #   \n",
      "=================================================================\n",
      "dense_1068 (Dense)           (None, 10)                110       \n",
      "_________________________________________________________________\n",
      "dropout_912 (Dropout)        (None, 10)                0         \n",
      "_________________________________________________________________\n",
      "dense_1069 (Dense)           (None, 64)                704       \n",
      "_________________________________________________________________\n",
      "dropout_913 (Dropout)        (None, 64)                0         \n",
      "_________________________________________________________________\n",
      "dense_1070 (Dense)           (None, 16)                1040      \n",
      "_________________________________________________________________\n",
      "dropout_914 (Dropout)        (None, 16)                0         \n",
      "_________________________________________________________________\n",
      "dense_1071 (Dense)           (None, 8)                 136       \n",
      "_________________________________________________________________\n",
      "dropout_915 (Dropout)        (None, 8)                 0         \n",
      "_________________________________________________________________\n",
      "dense_1072 (Dense)           (None, 4)                 36        \n",
      "_________________________________________________________________\n",
      "dropout_916 (Dropout)        (None, 4)                 0         \n",
      "_________________________________________________________________\n",
      "dense_1073 (Dense)           (None, 2)                 10        \n",
      "_________________________________________________________________\n",
      "dropout_917 (Dropout)        (None, 2)                 0         \n",
      "_________________________________________________________________\n",
      "dense_1074 (Dense)           (None, 1)                 3         \n",
      "=================================================================\n",
      "Total params: 2,039\n",
      "Trainable params: 2,039\n",
      "Non-trainable params: 0\n",
      "_________________________________________________________________\n"
     ]
    }
   ],
   "source": [
    "model2 = Sequential()\n",
    "model2.add(Dense(10, input_dim = 10, kernel_initializer='ones', activation = 'relu')) \n",
    "model2.add(Dropout(0.25))\n",
    "model2.add(Dense(64, kernel_initializer='ones', activation = 'tanh'))\n",
    "model2.add(Dropout(0.25))\n",
    "model2.add(Dense(16, kernel_initializer='ones', activation = 'tanh'))\n",
    "model2.add(Dropout(0.25))\n",
    "model2.add(Dense(8, kernel_initializer='ones', activation = 'tanh'))\n",
    "model2.add(Dropout(0.25))\n",
    "model2.add(Dense(4, kernel_initializer='ones', activation = 'tanh'))\n",
    "model2.add(Dropout(0.15))\n",
    "model2.add(Dense(2, kernel_initializer='ones', activation = 'tanh'))\n",
    "model2.add(Dropout(0.15))\n",
    "model2.add(Dense(1, kernel_initializer='ones', activation = 'sigmoid'))\n",
    "monitor = EarlyStopping(monitor = 'val_loss', min_delta = 1e-3, patience = 5, verbose = 1, mode = 'auto')   \n",
    "model2.compile(loss = 'binary_crossentropy', optimizer = OPTIMIZER, metrics = ['accuracy'])\n",
    "model2.summary()"
   ]
  },
  {
   "cell_type": "code",
   "execution_count": 1871,
   "metadata": {
    "scrolled": false
   },
   "outputs": [
    {
     "name": "stdout",
     "output_type": "stream",
     "text": [
      "Train on 115190 samples, validate on 15265 samples\n",
      "Epoch 1/100\n",
      "115190/115190 [==============================] - 14s 124us/step - loss: 1.0379 - acc: 0.5568 - val_loss: 0.9329 - val_acc: 0.5899\n",
      "Epoch 2/100\n",
      "115190/115190 [==============================] - 0s 4us/step - loss: 1.0122 - acc: 0.5573 - val_loss: 0.9214 - val_acc: 0.5902\n",
      "Epoch 3/100\n",
      "115190/115190 [==============================] - 0s 3us/step - loss: 1.0005 - acc: 0.5574 - val_loss: 0.9117 - val_acc: 0.5898\n",
      "Epoch 4/100\n",
      "115190/115190 [==============================] - 0s 4us/step - loss: 0.9885 - acc: 0.5582 - val_loss: 0.9023 - val_acc: 0.5895\n",
      "Epoch 5/100\n",
      "115190/115190 [==============================] - 0s 3us/step - loss: 0.9767 - acc: 0.5572 - val_loss: 0.8936 - val_acc: 0.5889\n",
      "Epoch 6/100\n",
      "115190/115190 [==============================] - 0s 4us/step - loss: 0.9652 - acc: 0.5575 - val_loss: 0.8846 - val_acc: 0.5886\n",
      "Epoch 7/100\n",
      "115190/115190 [==============================] - 0s 4us/step - loss: 0.9553 - acc: 0.5576 - val_loss: 0.8756 - val_acc: 0.5884\n",
      "Epoch 8/100\n",
      "115190/115190 [==============================] - 0s 4us/step - loss: 0.9445 - acc: 0.5577 - val_loss: 0.8668 - val_acc: 0.5882\n",
      "Epoch 9/100\n",
      "115190/115190 [==============================] - 0s 4us/step - loss: 0.9316 - acc: 0.5580 - val_loss: 0.8582 - val_acc: 0.5879\n",
      "Epoch 10/100\n",
      "115190/115190 [==============================] - 0s 4us/step - loss: 0.9224 - acc: 0.5573 - val_loss: 0.8498 - val_acc: 0.5877\n",
      "Epoch 11/100\n",
      "115190/115190 [==============================] - 0s 4us/step - loss: 0.9110 - acc: 0.5575 - val_loss: 0.8419 - val_acc: 0.5872\n",
      "Epoch 12/100\n",
      "115190/115190 [==============================] - 0s 4us/step - loss: 0.9009 - acc: 0.5575 - val_loss: 0.8347 - val_acc: 0.5864\n",
      "Epoch 13/100\n",
      "115190/115190 [==============================] - 0s 4us/step - loss: 0.8899 - acc: 0.5577 - val_loss: 0.8269 - val_acc: 0.5861\n",
      "Epoch 14/100\n",
      "115190/115190 [==============================] - 0s 4us/step - loss: 0.8806 - acc: 0.5579 - val_loss: 0.8201 - val_acc: 0.5853\n",
      "Epoch 15/100\n",
      "115190/115190 [==============================] - 0s 4us/step - loss: 0.8698 - acc: 0.5578 - val_loss: 0.8129 - val_acc: 0.5848\n",
      "Epoch 16/100\n",
      "115190/115190 [==============================] - 0s 4us/step - loss: 0.8618 - acc: 0.5576 - val_loss: 0.8051 - val_acc: 0.5848\n",
      "Epoch 17/100\n",
      "115190/115190 [==============================] - 0s 4us/step - loss: 0.8513 - acc: 0.5581 - val_loss: 0.7979 - val_acc: 0.5846\n",
      "Epoch 18/100\n",
      "115190/115190 [==============================] - 0s 3us/step - loss: 0.8416 - acc: 0.5583 - val_loss: 0.7900 - val_acc: 0.5850\n",
      "Epoch 19/100\n",
      "115190/115190 [==============================] - 0s 4us/step - loss: 0.8317 - acc: 0.5586 - val_loss: 0.7823 - val_acc: 0.5854\n",
      "Epoch 20/100\n",
      "115190/115190 [==============================] - 0s 3us/step - loss: 0.8240 - acc: 0.5587 - val_loss: 0.7754 - val_acc: 0.5854\n",
      "Epoch 21/100\n",
      "115190/115190 [==============================] - 0s 4us/step - loss: 0.8150 - acc: 0.5586 - val_loss: 0.7690 - val_acc: 0.5851\n",
      "Epoch 22/100\n",
      "115190/115190 [==============================] - 0s 4us/step - loss: 0.8065 - acc: 0.5581 - val_loss: 0.7628 - val_acc: 0.5849\n",
      "Epoch 23/100\n",
      "115190/115190 [==============================] - 0s 4us/step - loss: 0.7989 - acc: 0.5590 - val_loss: 0.7567 - val_acc: 0.5846\n",
      "Epoch 24/100\n",
      "115190/115190 [==============================] - 0s 4us/step - loss: 0.7921 - acc: 0.5589 - val_loss: 0.7503 - val_acc: 0.5847\n",
      "Epoch 25/100\n",
      "115190/115190 [==============================] - 0s 4us/step - loss: 0.7818 - acc: 0.5650 - val_loss: 0.7443 - val_acc: 0.5846\n",
      "Epoch 26/100\n",
      "115190/115190 [==============================] - 0s 4us/step - loss: 0.7738 - acc: 0.5600 - val_loss: 0.7385 - val_acc: 0.5845\n",
      "Epoch 27/100\n",
      "115190/115190 [==============================] - 0s 4us/step - loss: 0.7670 - acc: 0.5600 - val_loss: 0.7327 - val_acc: 0.5844\n",
      "Epoch 28/100\n",
      "115190/115190 [==============================] - 0s 4us/step - loss: 0.7591 - acc: 0.5601 - val_loss: 0.7273 - val_acc: 0.5841\n",
      "Epoch 29/100\n",
      "115190/115190 [==============================] - 0s 4us/step - loss: 0.7505 - acc: 0.5600 - val_loss: 0.7219 - val_acc: 0.5840\n",
      "Epoch 30/100\n",
      "115190/115190 [==============================] - 0s 4us/step - loss: 0.7442 - acc: 0.5607 - val_loss: 0.7165 - val_acc: 0.5838\n",
      "Epoch 31/100\n",
      "115190/115190 [==============================] - 0s 4us/step - loss: 0.7377 - acc: 0.5608 - val_loss: 0.7112 - val_acc: 0.5837\n",
      "Epoch 32/100\n",
      "115190/115190 [==============================] - 0s 4us/step - loss: 0.7318 - acc: 0.5604 - val_loss: 0.7060 - val_acc: 0.5836\n",
      "Epoch 33/100\n",
      "115190/115190 [==============================] - 0s 4us/step - loss: 0.7245 - acc: 0.5611 - val_loss: 0.7011 - val_acc: 0.5835\n",
      "Epoch 34/100\n",
      "115190/115190 [==============================] - 0s 3us/step - loss: 0.7181 - acc: 0.5611 - val_loss: 0.6962 - val_acc: 0.5836\n",
      "Epoch 35/100\n",
      "115190/115190 [==============================] - 0s 4us/step - loss: 0.7113 - acc: 0.5614 - val_loss: 0.6916 - val_acc: 0.5838\n",
      "Epoch 36/100\n",
      "115190/115190 [==============================] - 0s 4us/step - loss: 0.7062 - acc: 0.5612 - val_loss: 0.6875 - val_acc: 0.5839\n",
      "Epoch 37/100\n",
      "115190/115190 [==============================] - 0s 4us/step - loss: 0.7006 - acc: 0.5615 - val_loss: 0.6842 - val_acc: 0.5838\n",
      "Epoch 38/100\n",
      "115190/115190 [==============================] - 0s 4us/step - loss: 0.6959 - acc: 0.5617 - val_loss: 0.6816 - val_acc: 0.5840\n",
      "Epoch 39/100\n",
      "115190/115190 [==============================] - 0s 4us/step - loss: 0.6915 - acc: 0.5614 - val_loss: 0.6801 - val_acc: 0.5840\n",
      "Epoch 40/100\n",
      "115190/115190 [==============================] - 0s 4us/step - loss: 0.6885 - acc: 0.5615 - val_loss: 0.6799 - val_acc: 0.5839\n",
      "Epoch 41/100\n",
      "115190/115190 [==============================] - 0s 4us/step - loss: 0.6867 - acc: 0.5618 - val_loss: 0.6808 - val_acc: 0.5840\n",
      "Epoch 42/100\n",
      "115190/115190 [==============================] - 0s 4us/step - loss: 0.6857 - acc: 0.5621 - val_loss: 0.6827 - val_acc: 0.5838\n",
      "Epoch 43/100\n",
      "115190/115190 [==============================] - 0s 4us/step - loss: 0.6862 - acc: 0.5620 - val_loss: 0.6849 - val_acc: 0.5837\n",
      "Epoch 44/100\n",
      "115190/115190 [==============================] - 0s 4us/step - loss: 0.6873 - acc: 0.5623 - val_loss: 0.6870 - val_acc: 0.5837\n",
      "Epoch 00044: early stopping\n"
     ]
    }
   ],
   "source": [
    "history = model2.fit(X2_train, y2_train, epochs = 100, batch_size=batch_size, validation_data=(X_valid, y_valid), callbacks = [monitor], shuffle=False)"
   ]
  },
  {
   "cell_type": "code",
   "execution_count": 1872,
   "metadata": {},
   "outputs": [
    {
     "data": {
      "image/png": "[encoded data removed]",
      "text/plain": [
       "<Figure size 432x288 with 1 Axes>"
      ]
     },
     "metadata": {},
     "output_type": "display_data"
    }
   ],
   "source": [
    "# Avaliando o Modelo\n",
    "plt.plot(history.history['loss'])\n",
    "plt.plot(history.history['val_loss'])\n",
    "plt.title('model train vs validation loss'), \n",
    "plt.ylabel('loss')\n",
    "plt.xlabel('epoch')\n",
    "plt.legend(['train', 'validation'], loc='upper right')\n",
    "plt.show()"
   ]
  },
  {
   "cell_type": "code",
   "execution_count": 1873,
   "metadata": {},
   "outputs": [
    {
     "name": "stdout",
     "output_type": "stream",
     "text": [
      "Loss:  [0.6870256393962402, 0.5836881755650181]\n"
     ]
    }
   ],
   "source": [
    "print(\"Loss: \", model2.evaluate(X_valid, y_valid, verbose=0))"
   ]
  },
  {
   "cell_type": "code",
   "execution_count": 1746,
   "metadata": {},
   "outputs": [],
   "source": [
    "from sklearn.metrics import recall_score"
   ]
  },
  {
   "cell_type": "code",
   "execution_count": 1874,
   "metadata": {},
   "outputs": [
    {
     "name": "stdout",
     "output_type": "stream",
     "text": [
      "Validation Results\n",
      "0.86158357771261\n",
      "\n",
      "Test Results\n",
      "0.6389364161849711\n",
      "0.9470198675496688\n"
     ]
    }
   ],
   "source": [
    "print('Validation Results')\n",
    "print(recall_score(y_valid,np.round(model2.predict(X_valid)).T[0]))\n",
    "print('\\nTest Results')\n",
    "print(1 - inaccuracy)\n",
    "print(recall_score(y_test,np.round(model2.predict(X_test)).T[0]))"
   ]
  },
  {
   "cell_type": "code",
   "execution_count": 1034,
   "metadata": {},
   "outputs": [],
   "source": [
    "from sklearn import metrics"
   ]
  },
  {
   "cell_type": "code",
   "execution_count": 1876,
   "metadata": {},
   "outputs": [
    {
     "data": {
      "image/png": "[encoded data removed]",
      "text/plain": [
       "<Figure size 432x288 with 1 Axes>"
      ]
     },
     "metadata": {},
     "output_type": "display_data"
    }
   ],
   "source": [
    "plt.title('Receiver Operating Characteristic')\n",
    "plt.plot(fpr, tpr, 'b', label = 'AUC = %0.2f' % roc_auc)\n",
    "plt.legend(loc = 'lower right')\n",
    "plt.plot([0, 1], [0, 1],'r--')\n",
    "plt.xlim([0, 1])\n",
    "plt.ylim([0, 1])\n",
    "plt.ylabel('True Positive Rate')\n",
    "plt.xlabel('False Positive Rate')\n",
    "plt.show()"
   ]
  },
  {
   "cell_type": "code",
   "execution_count": 1878,
   "metadata": {},
   "outputs": [],
   "source": [
    "y2_predicted = np.round(model2.predict(X_test)).T[0]\n",
    "y2_correct = np.array(y_test)"
   ]
  },
  {
   "cell_type": "code",
   "execution_count": 1879,
   "metadata": {},
   "outputs": [
    {
     "data": {
      "text/plain": [
       "array([], dtype=float32)"
      ]
     },
     "execution_count": 1879,
     "metadata": {},
     "output_type": "execute_result"
    }
   ],
   "source": [
    "np.setdiff1d(y2_predicted, y2_correct)"
   ]
  },
  {
   "cell_type": "code",
   "execution_count": 1880,
   "metadata": {
    "scrolled": true
   },
   "outputs": [
    {
     "name": "stdout",
     "output_type": "stream",
     "text": [
      "Inacurácia: 0.35061271676300576\n",
      "Acurácia: 0.6493872832369942\n",
      "Taxa de Falsos Negativos: 0.01688208915853337\n",
      "Taxa de Falsos Positivos: 0.9831179108414666\n",
      "Falsos Negativos/total: 0.005919075144508671\n"
     ]
    }
   ],
   "source": [
    "false_neg = 0\n",
    "false_pos = 0\n",
    "incorrect = 0\n",
    "total = len(y_test)\n",
    "for i in range(len(y_test)):\n",
    "    if y2_predicted[i] != y2_correct[i]:\n",
    "        incorrect += 1\n",
    "        if y2_correct[i] == 1 and y2_predicted[i] == 0:\n",
    "            false_neg += 1\n",
    "        else:\n",
    "            false_pos += 1\n",
    "\n",
    "inaccuracy = incorrect / total\n",
    "\n",
    "print('Inacurácia:', inaccuracy)\n",
    "print('Acurácia:', 1 - inaccuracy)\n",
    "if incorrect > 0:\n",
    "    print('Taxa de Falsos Negativos:', false_neg/incorrect)\n",
    "    print('Taxa de Falsos Positivos:', false_pos / incorrect )    \n",
    "print('Falsos Negativos/total:', false_neg/total)"
   ]
  },
  {
   "cell_type": "code",
   "execution_count": 1885,
   "metadata": {},
   "outputs": [
    {
     "name": "stdout",
     "output_type": "stream",
     "text": [
      "Validation Results\n",
      "0.86158357771261\n",
      "\n",
      "Test Results\n",
      "0.6493872832369942\n",
      "0.9470198675496688\n"
     ]
    }
   ],
   "source": [
    "print('Validation Results')\n",
    "print(recall_score(y_valid,np.round(model2.predict(X_valid)).T[0]))\n",
    "print('\\nTest Results')\n",
    "print(1 - inaccuracy)\n",
    "print(recall_score(y_test,np.round(model2.predict(X_test)).T[0]))"
   ]
  },
  {
   "cell_type": "code",
   "execution_count": 1881,
   "metadata": {},
   "outputs": [
    {
     "name": "stdout",
     "output_type": "stream",
     "text": [
      "7582\n"
     ]
    }
   ],
   "source": [
    "print(incorrect)"
   ]
  },
  {
   "cell_type": "code",
   "execution_count": 1882,
   "metadata": {
    "scrolled": false
   },
   "outputs": [
    {
     "name": "stdout",
     "output_type": "stream",
     "text": [
      "Confusion matrix:\n",
      "Predicted  False  True  __all__\n",
      "Actual                         \n",
      "False      11755  7454    19209\n",
      "True         128  2288     2416\n",
      "__all__    11883  9742    21625\n"
     ]
    },
    {
     "data": {
      "image/png": "[encoded data removed]",
      "text/plain": [
       "<Figure size 648x576 with 2 Axes>"
      ]
     },
     "metadata": {},
     "output_type": "display_data"
    },
    {
     "name": "stdout",
     "output_type": "stream",
     "text": [
      "population: 21625\n",
      "P: 2416\n",
      "N: 19209\n",
      "PositiveTest: 9742\n",
      "NegativeTest: 11883\n",
      "TP: 2288\n",
      "TN: 11755\n",
      "FP: 7454\n",
      "FN: 128\n",
      "TPR: 0.9470198675496688\n",
      "TNR: 0.6119527304909157\n",
      "PPV: 0.23485937179223978\n",
      "NPV: 0.9892283093494909\n",
      "FPR: 0.3880472695090843\n",
      "FDR: 0.7651406282077602\n",
      "FNR: 0.052980132450331126\n",
      "ACC: 0.6493872832369942\n",
      "F1_score: 0.37637769369962165\n",
      "MCC: 0.3539193033965275\n",
      "informedness: 0.5589725980405844\n",
      "markedness: 0.22408768114173072\n",
      "prevalence: 0.11172254335260115\n",
      "LRP: 2.4404755347144604\n",
      "LRN: 0.08657553077315275\n",
      "DOR: 28.188975717735442\n",
      "FOR: 0.010771690650509131\n"
     ]
    }
   ],
   "source": [
    "confusion_matrix2 = ConfusionMatrix(y2_correct, y2_predicted)\n",
    "print(\"Confusion matrix:\\n%s\" % confusion_matrix2)\n",
    "confusion_matrix2.plot(normalized=True)\n",
    "plt.show()\n",
    "confusion_matrix2.print_stats()"
   ]
  },
  {
   "cell_type": "markdown",
   "metadata": {},
   "source": [
    "### Conclusão\n",
    "O modelo de Deep Learning conseguiu atingir um excelente índice de acurácia no recall da classe minoritária, demonstrando ser uma ferramenta eficaz na identificação antecipada de pacientes que necessitarão de uma maior atenção da equipe assistencial, por possuir uma alta probabilidade de ocorrência de readmissão.\n"
   ]
  },
  {
   "cell_type": "markdown",
   "metadata": {},
   "source": [
    "\n",
    "#### Referencias\n",
    "\n",
    "Data Science Acabemy: Formação Inteligencia Artificial           \n",
    "https://www.datascienceacademy.com.br/pages/formacao-inteligencia-artificial\n",
    "\n",
    "Fator de Qualidade: dados de readmissão hospitalar devem ser informados à ANS   \n",
    "http://www.ans.gov.br/aans/noticias-ans/qualidade-da-saude/3167-fator-de-qualidade-dados-de-readmissao-hospitalar-devem-ser-informados-a-ans\n",
    "\n",
    "3 formas únicas de diminuir a readmissão hospitalar       \n",
    "https://saudebusiness.com/noticias/3-formas-diminuir-readmissao-hospitalar/\n",
    "\n",
    "Resampling strategies for imbalanced datasets       \n",
    "https://www.kaggle.com/rafjaa/resampling-strategies-for-imbalanced-datasets\n",
    "\n",
    "The Right Way to Oversample in Predictive Modeling       \n",
    "https://beckernick.github.io/oversampling-modeling/\n"
   ]
  },
  {
   "cell_type": "code",
   "execution_count": null,
   "metadata": {},
   "outputs": [],
   "source": []
  }
 ],
 "metadata": {
  "anaconda-cloud": {},
  "celltoolbar": "Raw Cell Format",
  "kernelspec": {
   "display_name": "Python 3",
   "language": "python",
   "name": "python3"
  },
  "language_info": {
   "codemirror_mode": {
    "name": "ipython",
    "version": 3
   },
   "file_extension": ".py",
   "mimetype": "text/x-python",
   "name": "python",
   "nbconvert_exporter": "python",
   "pygments_lexer": "ipython3",
   "version": "3.6.4"
  }
 },
 "nbformat": 4,
 "nbformat_minor": 2
}
